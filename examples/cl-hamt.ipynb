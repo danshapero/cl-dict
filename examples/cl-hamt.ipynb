{
 "cells": [
  {
   "cell_type": "code",
   "execution_count": null,
   "metadata": {},
   "outputs": [],
   "source": [
    "(ql:quickload :cl-hamt)"
   ]
  },
  {
   "cell_type": "code",
   "execution_count": null,
   "metadata": {},
   "outputs": [],
   "source": [
    "(use-package :cl-hamt)"
   ]
  },
  {
   "cell_type": "markdown",
   "metadata": {},
   "source": [
    "# cl-hamt\n",
    "\n",
    "This notebook demonstrates how to use the Common Lisp library `cl-hamt`.\n",
    "`cl-hamt` provides data structures for sets and dictionaries based on [hash array-mapped tries](https://en.wikipedia.org/wiki/Hash_array_mapped_trie) (HAMTs).\n",
    "This data type provides insertion, deletion, and lookup of entries in a collection of size $n$ in $\\log_{32}(n)$ time.\n",
    "The space usage is asymptotic to $n\\cdot\\log_{32}(n)$ + some constant overhead.\n",
    "For large collections, this overhead is a small fraction of the whole, but if you're working with a large number of small-size collections, a list or an association list might be more appropriate.\n",
    "The dictionary data type in the [Clojure](https://en.wikipedia.org/wiki/Clojure) programming language's standard library is implemented using HAMTs.\n",
    "\n",
    "The implementation of HAMTs in this library is fully persistent.\n",
    "A persistent collection is never truly modified; rather, when one wishes to add an entry to a collection, a new collection is returned which contains the new element and the old, unmodified collection is preserved.\n",
    "The new augmented collection, however, shares as much structure as possible with the old collection.\n",
    "The garbage collector cleans up any old versions of data structures for us if we're not using them anymore.\n",
    "All told, these persistent collections don't use much more memory than their imperative counterparts.\n",
    "Since persistent collections are fundamentally immutable and one never makes destructive updates, they can be much easier to reason about and debug."
   ]
  },
  {
   "cell_type": "markdown",
   "metadata": {},
   "source": [
    "### Hash sets\n",
    "\n",
    "Some basic usage -- adding, removing entries -- of the set API is shown below.\n",
    "The function `empty-set` creates a set with no entries in it; to populate it, call the function `set-insert`."
   ]
  },
  {
   "cell_type": "code",
   "execution_count": null,
   "metadata": {},
   "outputs": [],
   "source": [
    "(empty-set)"
   ]
  },
  {
   "cell_type": "code",
   "execution_count": null,
   "metadata": {},
   "outputs": [],
   "source": [
    "(defvar musicians\n",
    "    (set-insert (empty-set)\n",
    "                \"Miles Davis\"\n",
    "                \"John Coltrane\"\n",
    "                \"Charlie Parker\"\n",
    "                \"Dizzy Gillespie\"\n",
    "                \"Mary Lou Williams\"\n",
    "                \"Ella Fitzgerald\"\n",
    "                \"Nina Simone\"\n",
    "                \"Jascha Heifetz\"\n",
    "                \"Hilary Hahn\"\n",
    "                \"Stefan Grappelli\"\n",
    "                \"Chubby Wise\"\n",
    "                \"Lester Flatt\"\n",
    "                \"Earl Scruggs\"\n",
    "                \"Bill Monroe\"))"
   ]
  },
  {
   "cell_type": "markdown",
   "metadata": {},
   "source": [
    "There are two query operations we can perform on sets: getting the size of the set, and returning whether or not some object is contained in the set."
   ]
  },
  {
   "cell_type": "code",
   "execution_count": null,
   "metadata": {},
   "outputs": [],
   "source": [
    "(set-size musicians)"
   ]
  },
  {
   "cell_type": "code",
   "execution_count": null,
   "metadata": {},
   "outputs": [],
   "source": [
    "(set-lookup musicians \"Nina Simone\")"
   ]
  },
  {
   "cell_type": "code",
   "execution_count": null,
   "metadata": {},
   "outputs": [],
   "source": [
    "(set-lookup musicians \"Teo Macero\")"
   ]
  },
  {
   "cell_type": "markdown",
   "metadata": {},
   "source": [
    "Adding an entry to a set creates a new set; it does not modify the old one."
   ]
  },
  {
   "cell_type": "code",
   "execution_count": null,
   "metadata": {},
   "outputs": [],
   "source": [
    "(defvar even-more-musicians (set-insert musicians \"Birgit Nilsson\"))"
   ]
  },
  {
   "cell_type": "code",
   "execution_count": null,
   "metadata": {},
   "outputs": [],
   "source": [
    "(set-lookup musicians \"Birgit Nilsson\")"
   ]
  },
  {
   "cell_type": "code",
   "execution_count": null,
   "metadata": {},
   "outputs": [],
   "source": [
    "(set-lookup even-more-musicians \"Birgit Nilsson\")"
   ]
  },
  {
   "cell_type": "markdown",
   "metadata": {},
   "source": [
    "Reducing over a collection is the key means of performing an operation on all of its elements.\n",
    "The code below starts with an empty string, then concatenates the name of every musician in the set with a newline after."
   ]
  },
  {
   "cell_type": "code",
   "execution_count": null,
   "metadata": {},
   "outputs": [],
   "source": [
    "(set-reduce (lambda (name str)\n",
    "                    (concatenate 'string str (string #\\linefeed) name))\n",
    "            musicians\n",
    "            \"\")"
   ]
  },
  {
   "cell_type": "markdown",
   "metadata": {},
   "source": [
    "Note that HAMTs store the input by hashing it.\n",
    "Hashing does not preserve any natural ordering (e.g. lexicographic) of the entries.\n",
    "Nor does it preserve the order in which they were inserted."
   ]
  },
  {
   "cell_type": "markdown",
   "metadata": {},
   "source": [
    "### Hash maps\n",
    "\n",
    "Dictionaries work just like sets do and the names of all the API functions are the same.\n",
    "The main difference is that, when inserting entries into a dictionary, the arguments come in alternating key-value pairs."
   ]
  },
  {
   "cell_type": "code",
   "execution_count": null,
   "metadata": {},
   "outputs": [],
   "source": [
    "(defvar musicians->instruments\n",
    "    (dict-insert (empty-dict)\n",
    "                 \"Miles Davis\" \"trumpet\"\n",
    "                 \"John Coltrane\" \"tenor sax\"\n",
    "                 \"Charlie Parker\" \"alto sax\"\n",
    "                 \"Dizzy Gillespie\" \"trumpet\"\n",
    "                 \"Mary Lou Williams\" \"piano\"\n",
    "                 \"Ella Fitzgerald\" \"voice\"\n",
    "                 \"Nina Simone\" \"voice\"\n",
    "                 \"Jascha Heifetz\" \"violin\"\n",
    "                 \"Hilary Hahn\" \"violin\"\n",
    "                 \"Stefan Grappelli\" \"violin\"\n",
    "                 \"Chubby Wise\" \"violin\"\n",
    "                 \"Lester Flatt\" \"guitar\"\n",
    "                 \"Earl Scruggs\" \"banjo\"\n",
    "                 \"Bill Monroe\" \"mandolin\"))"
   ]
  },
  {
   "cell_type": "markdown",
   "metadata": {},
   "source": [
    "Rather than returning merely true or false when looking up whether an entry is in a dictionary, the function `dict-lookup` returns the value that this key is mapped to."
   ]
  },
  {
   "cell_type": "code",
   "execution_count": null,
   "metadata": {},
   "outputs": [],
   "source": [
    "(dict-lookup musicians->instruments \"Dizzy Gillespie\")"
   ]
  },
  {
   "cell_type": "markdown",
   "metadata": {},
   "source": [
    "Looking up a key that is not in the dictionary will return nil.\n",
    "Consequently if you were to store a key that actually is mapped to nil, this would be indistinguishable from the key not being in the dictionary at all."
   ]
  },
  {
   "cell_type": "code",
   "execution_count": null,
   "metadata": {},
   "outputs": [],
   "source": [
    "(dict-lookup musicians->instruments \"Karl Rove\")"
   ]
  },
  {
   "cell_type": "markdown",
   "metadata": {},
   "source": [
    "The same operations (filter and reduce) are defined for dictionaries as for sets, but the signature of the filtering or reducing function you pass to it takes in both the key and the value.\n",
    "The code below iterates over the dictionary and creates a list of the names of all the violinists."
   ]
  },
  {
   "cell_type": "code",
   "execution_count": null,
   "metadata": {},
   "outputs": [],
   "source": [
    "(dict-reduce (lambda (violinists name instrument)\n",
    "                (if (equal instrument \"violin\")\n",
    "                   (cons name violinists)\n",
    "                   violinists))\n",
    "             musicians->instruments\n",
    "             '())"
   ]
  },
  {
   "cell_type": "markdown",
   "metadata": {},
   "source": [
    "For dictionaries, there are specialized versions of reduce for operating only on the dictionary keys or values.\n",
    "The function below counts the number of violinists rather than assembling all of them into a list."
   ]
  },
  {
   "cell_type": "code",
   "execution_count": null,
   "metadata": {},
   "outputs": [],
   "source": [
    "(dict-reduce-values (lambda (count instrument)\n",
    "                      (+ count (if (equal instrument \"violin\") 1 0)))\n",
    "                    musicians->instruments\n",
    "                    0)"
   ]
  }
 ],
 "metadata": {
  "kernelspec": {
   "display_name": "SBCL Lisp",
   "language": "lisp",
   "name": "lisp"
  },
  "language_info": {
   "codemirror_mode": "text/x-common-lisp",
   "mimetype": "text/x-common-lisp",
   "name": "common-lisp",
   "pygments_lexer": "common-lisp",
   "version": "X3J13"
  }
 },
 "nbformat": 4,
 "nbformat_minor": 1
}
